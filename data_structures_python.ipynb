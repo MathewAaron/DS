{
 "cells": [
  {
   "cell_type": "code",
   "execution_count": 1,
   "id": "8cdce421",
   "metadata": {},
   "outputs": [
    {
     "name": "stdout",
     "output_type": "stream",
     "text": [
      "Hello World!\n"
     ]
    }
   ],
   "source": [
    "print(\"Hello World!\")"
   ]
  },
  {
   "cell_type": "code",
   "execution_count": null,
   "id": "f34431fa",
   "metadata": {},
   "outputs": [],
   "source": [
    "import unittest "
   ]
  },
  {
   "cell_type": "code",
   "execution_count": 1,
   "id": "9ae9e568",
   "metadata": {},
   "outputs": [],
   "source": [
    "# Create a class to return area of rectangle using decorators\n",
    "\n",
    "class Rectangle():\n",
    "    \n",
    "    def __init__(self, height, width):\n",
    "        \n",
    "        self._height = height\n",
    "        self._width = width\n",
    "        \n",
    "    @property\n",
    "    def height(self):\n",
    "        \n",
    "        return self._height\n",
    "    \n",
    "    @height.setter\n",
    "    def height(self,value):\n",
    "        \n",
    "        if value <= 0:\n",
    "            raise ValueError(\"Height should be positive..\")\n",
    "            \n",
    "        else : \n",
    "            self._height = value\n",
    "            \n",
    "    @property\n",
    "    def width(self):\n",
    "        \n",
    "        return self._width\n",
    "    \n",
    "    @width.setter\n",
    "    def width(self,value):\n",
    "        \n",
    "        if value <= 0:\n",
    "            raise ValueError(\"Width should be positive..\")\n",
    "        else : \n",
    "            self._width = value\n",
    "            \n",
    "    def area(self):\n",
    "        \n",
    "        return self._width * self._height\n",
    "    \n",
    "    "
   ]
  },
  {
   "cell_type": "code",
   "execution_count": 12,
   "id": "fdacf2dc",
   "metadata": {},
   "outputs": [
    {
     "name": "stdout",
     "output_type": "stream",
     "text": [
      "50\n",
      "10\n"
     ]
    }
   ],
   "source": [
    "# Test the class\n",
    "\n",
    "rectangle_area = Rectangle(5,10)\n",
    "# area\n",
    "print(rectangle_area.area())\n",
    "# width\n",
    "print(rectangle_area._width)"
   ]
  },
  {
   "cell_type": "code",
   "execution_count": 5,
   "id": "8a2d1bf5",
   "metadata": {},
   "outputs": [],
   "source": [
    "# Now try to reuse this code to make a new class called 'Square' to return area of square\n",
    "\n",
    "class Square(Rectangle):\n",
    "    \n",
    "    def __init__(self,length):\n",
    "        \n",
    "        super(Square,self).__init__(length,length)\n",
    "    "
   ]
  },
  {
   "cell_type": "code",
   "execution_count": 14,
   "id": "e0a1f91e",
   "metadata": {},
   "outputs": [
    {
     "name": "stdout",
     "output_type": "stream",
     "text": [
      "10\n",
      "100\n"
     ]
    }
   ],
   "source": [
    "# Test the area of square\n",
    "square_area = Square(10)\n",
    "print(square_area._width)\n",
    "print(square_area.area())"
   ]
  },
  {
   "cell_type": "code",
   "execution_count": 28,
   "id": "3ab2855c",
   "metadata": {},
   "outputs": [],
   "source": [
    "import math\n",
    "    \n",
    "class Circle(FigureShape):\n",
    "    \n",
    "    def __init__(self,radius):\n",
    "        \n",
    "        self._radius = radius\n",
    "        \n",
    "    def area(self):\n",
    "        \n",
    "        return  math.pi * self._radius**2\n",
    "    \n",
    "class Triangle(FigureShape):\n",
    "    \n",
    "    def __init__(self,base,height):\n",
    "        \n",
    "        self._base = base\n",
    "        self._height = height\n",
    "    \n",
    "    def area(self):\n",
    "        \n",
    "        return 0.5 * _base * _height\n",
    "    \n",
    "# Create a shape class\n",
    "class FigureShape():\n",
    "    \n",
    "    def area(self):\n",
    "        \n",
    "        pass\n",
    "    \n",
    "def calculate_area(shape):\n",
    "\n",
    "    return shape.area()"
   ]
  },
  {
   "cell_type": "code",
   "execution_count": 31,
   "id": "0a40f25c",
   "metadata": {},
   "outputs": [
    {
     "data": {
      "text/plain": [
       "78.53981633974483"
      ]
     },
     "execution_count": 31,
     "metadata": {},
     "output_type": "execute_result"
    }
   ],
   "source": [
    "circle_obj = Circle(5)\n",
    "triangle_obj = Triangle(5,7)\n",
    "\n",
    "calculate_area(circle_obj)"
   ]
  },
  {
   "cell_type": "code",
   "execution_count": null,
   "id": "ad3ad642",
   "metadata": {},
   "outputs": [],
   "source": []
  },
  {
   "cell_type": "code",
   "execution_count": null,
   "id": "39d9e348",
   "metadata": {},
   "outputs": [],
   "source": []
  }
 ],
 "metadata": {
  "kernelspec": {
   "display_name": "Python 3 (ipykernel)",
   "language": "python",
   "name": "python3"
  },
  "language_info": {
   "codemirror_mode": {
    "name": "ipython",
    "version": 3
   },
   "file_extension": ".py",
   "mimetype": "text/x-python",
   "name": "python",
   "nbconvert_exporter": "python",
   "pygments_lexer": "ipython3",
   "version": "3.9.12"
  }
 },
 "nbformat": 4,
 "nbformat_minor": 5
}
